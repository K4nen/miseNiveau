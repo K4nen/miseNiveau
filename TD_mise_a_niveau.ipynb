{
 "cells": [
  {
   "cell_type": "markdown",
   "metadata": {},
   "source": [
    "# TD mise à niveau Python"
   ]
  },
  {
   "cell_type": "markdown",
   "metadata": {},
   "source": [
    "## Variables et types de données\n",
    "\n",
    "Une variable est une zone de la mémoire de l'ordinateur dans laquelle une valeur est stockée. La déclaration d'une variable et son initialisation  se font en même temps. Python est un langage au typage dynamique, il n'est pas nécéssaire de déclarer le type d'une variable, python le \"devine\" automatiquement."
   ]
  },
  {
   "cell_type": "markdown",
   "metadata": {},
   "source": [
    "Le type d'une variable peut être changé via une fonction."
   ]
  },
  {
   "cell_type": "code",
   "execution_count": null,
   "metadata": {},
   "outputs": [],
   "source": [
    "a = '2'\n",
    "print(\"a =\", a)\n",
    "print(\"type =\", type(a))"
   ]
  },
  {
   "cell_type": "code",
   "execution_count": null,
   "metadata": {},
   "outputs": [],
   "source": [
    "b = int(a)\n",
    "print(\"b =\", b)\n",
    "print(\"type =\", type(b))"
   ]
  },
  {
   "cell_type": "markdown",
   "metadata": {},
   "source": [
    "### Exercice\n",
    "1. Afficher les types de x et y\n",
    "2. Affecter à z la somme de x et y\n",
    "3. Afficher z et son type"
   ]
  },
  {
   "cell_type": "code",
   "execution_count": 4,
   "metadata": {
    "ExecuteTime": {
     "end_time": "2024-01-15T13:20:08.717132Z",
     "start_time": "2024-01-15T13:20:08.625244Z"
    }
   },
   "outputs": [
    {
     "ename": "TypeError",
     "evalue": "can only concatenate str (not \"float\") to str",
     "output_type": "error",
     "traceback": [
      "\u001B[0;31m---------------------------------------------------------------------------\u001B[0m",
      "\u001B[0;31mTypeError\u001B[0m                                 Traceback (most recent call last)",
      "Cell \u001B[0;32mIn[4], line 4\u001B[0m\n\u001B[1;32m      1\u001B[0m x \u001B[38;5;241m=\u001B[39m \u001B[38;5;124m'\u001B[39m\u001B[38;5;124m2\u001B[39m\u001B[38;5;124m'\u001B[39m\n\u001B[1;32m      2\u001B[0m y \u001B[38;5;241m=\u001B[39m \u001B[38;5;241m5.0\u001B[39m\n\u001B[0;32m----> 4\u001B[0m \u001B[43mx\u001B[49m\u001B[43m \u001B[49m\u001B[38;5;241;43m+\u001B[39;49m\u001B[43m \u001B[49m\u001B[43my\u001B[49m\n",
      "\u001B[0;31mTypeError\u001B[0m: can only concatenate str (not \"float\") to str"
     ]
    }
   ],
   "source": [
    "x = '2'\n",
    "y = 5.0\n",
    "\n"
   ]
  },
  {
   "cell_type": "markdown",
   "metadata": {},
   "source": [
    "## Listes\n",
    "\n",
    "Une liste est une structure de données qui contient une série de valeurs. Python autorise la construction de liste contenant des valeurs de types différents.\n",
    "\n",
    "On peut appeler ses éléments par leur position, une liste de n éléments commencent à 0 et se terminent à n-1.\n",
    "\n",
    "La liste peut également être indexée avec des nombres négatifs.\n",
    "\n",
    "Une tranche de valeurs peut être sélectionné au sein de la liste."
   ]
  },
  {
   "cell_type": "code",
   "execution_count": 3,
   "metadata": {
    "ExecuteTime": {
     "end_time": "2024-01-15T13:19:52.721594Z",
     "start_time": "2024-01-15T13:19:52.694338Z"
    }
   },
   "outputs": [
    {
     "name": "stdout",
     "output_type": "stream",
     "text": [
      "Pierre\n",
      "Marie\n",
      "['Pierre', 'Paul', 'Marie']\n"
     ]
    }
   ],
   "source": [
    "prenom = ['Pierre','Paul','Marie','Catherine']\n",
    "\n",
    "print(prenom[0])\n",
    "print(prenom[-2])\n",
    "print(prenom[0:3])"
   ]
  },
  {
   "cell_type": "markdown",
   "metadata": {},
   "source": [
    "### Concaténation\n",
    "Deux listes peuvent être concaténées via l'oérateur +"
   ]
  },
  {
   "cell_type": "code",
   "execution_count": null,
   "metadata": {},
   "outputs": [],
   "source": [
    "prenom2 = [\"Jean\",\"Louis\"]\n",
    "prenom + prenom2"
   ]
  },
  {
   "cell_type": "markdown",
   "metadata": {},
   "source": [
    "Un élément peut être ajouté à une liste via la fonction append()"
   ]
  },
  {
   "cell_type": "code",
   "execution_count": null,
   "metadata": {},
   "outputs": [],
   "source": [
    "prenom.append(\"François\")\n",
    "prenom"
   ]
  },
  {
   "cell_type": "markdown",
   "metadata": {},
   "source": [
    "### Fonction sur liste"
   ]
  },
  {
   "cell_type": "markdown",
   "metadata": {},
   "source": [
    "Longueur d'une liste"
   ]
  },
  {
   "cell_type": "code",
   "execution_count": null,
   "metadata": {},
   "outputs": [],
   "source": [
    "len(prenom)"
   ]
  },
  {
   "cell_type": "markdown",
   "metadata": {},
   "source": [
    "L'instruction range() est une fonction qui génère des nombres entiers compris dans un intervalle. \n",
    "La fonction list() permet de transformer le résultat en liste."
   ]
  },
  {
   "cell_type": "code",
   "execution_count": null,
   "metadata": {},
   "outputs": [],
   "source": [
    "list(range(5))"
   ]
  },
  {
   "cell_type": "code",
   "execution_count": null,
   "metadata": {},
   "outputs": [],
   "source": [
    "sum(list(range(5)))"
   ]
  },
  {
   "cell_type": "code",
   "execution_count": null,
   "metadata": {},
   "outputs": [],
   "source": [
    "max(list(range(5)))"
   ]
  },
  {
   "cell_type": "markdown",
   "metadata": {},
   "source": [
    "#### Exercice\n",
    "\n",
    "Créer une liste des nombres paires jusqu'à 10 et calculer la moyenne de cette liste."
   ]
  },
  {
   "cell_type": "code",
   "execution_count": 5,
   "metadata": {
    "ExecuteTime": {
     "end_time": "2024-01-15T13:20:56.638257Z",
     "start_time": "2024-01-15T13:20:56.609844Z"
    }
   },
   "outputs": [
    {
     "name": "stdout",
     "output_type": "stream",
     "text": [
      "Liste des nombres pairs jusqu'à 10 : [2, 4, 6, 8, 10]\n",
      "Moyenne des nombres pairs : 6.0\n"
     ]
    }
   ],
   "source": [
    "# Création de la liste des nombres pairs jusqu'à 10\n",
    "nombres_pairs = [x for x in range(2, 11, 2)]  # Démarre à 2, se termine à 10, pas de 2 en 2\n",
    "\n",
    "# Affichage de la liste\n",
    "print(\"Liste des nombres pairs jusqu'à 10 :\", nombres_pairs)\n",
    "\n",
    "# Calcul de la moyenne\n",
    "moyenne = sum(nombres_pairs) / len(nombres_pairs)\n",
    "\n",
    "# Affichage de la moyenne\n",
    "print(\"Moyenne des nombres pairs :\", moyenne)\n"
   ]
  },
  {
   "cell_type": "markdown",
   "metadata": {},
   "source": [
    "## Condition IF/ELIF/ELSE"
   ]
  },
  {
   "cell_type": "markdown",
   "metadata": {},
   "source": [
    "Les instructions if,elif, else permettent de lancer du code sous une certaines condition."
   ]
  },
  {
   "cell_type": "code",
   "execution_count": 6,
   "metadata": {
    "ExecuteTime": {
     "end_time": "2024-01-15T13:21:49.537011Z",
     "start_time": "2024-01-15T13:21:49.505949Z"
    }
   },
   "outputs": [
    {
     "name": "stdout",
     "output_type": "stream",
     "text": [
      "majeur\n"
     ]
    }
   ],
   "source": [
    "age = 25\n",
    "\n",
    "if age < 18:\n",
    "    print(\"mineur\")\n",
    "else :\n",
    "    print(\"majeur\")"
   ]
  },
  {
   "cell_type": "markdown",
   "metadata": {},
   "source": [
    "## Boucle FOR et WHILE"
   ]
  },
  {
   "cell_type": "markdown",
   "metadata": {},
   "source": [
    "Les boucles permettent de réaliser des actions répétitives de manière compacte et efficace en parcourant un ensemble de valeurs."
   ]
  },
  {
   "cell_type": "code",
   "execution_count": null,
   "metadata": {},
   "outputs": [],
   "source": [
    "villes = ['Paris','Marseille','Lyon']\n",
    "for x in villes :\n",
    "    print(x)"
   ]
  },
  {
   "cell_type": "markdown",
   "metadata": {},
   "source": [
    "La boucle while est une alternative à la boucle for, elle permet de réaliser une série d'instructions tant qu'une condition est vraie."
   ]
  },
  {
   "cell_type": "code",
   "execution_count": null,
   "metadata": {},
   "outputs": [],
   "source": [
    "i = 1\n",
    "while i <= 3:\n",
    "    print(i)\n",
    "    i += 1"
   ]
  },
  {
   "cell_type": "markdown",
   "metadata": {},
   "source": [
    "## Dictionnaire \n",
    "\n",
    "Le dictionnaire est un type qui se définit comme un ensemble de paires clé: valeur, les clés devant être uniques.\n"
   ]
  },
  {
   "cell_type": "code",
   "execution_count": null,
   "metadata": {},
   "outputs": [],
   "source": [
    "note_math = {'Jean' : 16,\n",
    "             'Pierre' : 14,\n",
    "             'Marie' : 15}\n",
    "note_math"
   ]
  },
  {
   "cell_type": "markdown",
   "metadata": {},
   "source": [
    "Récupérer la valeur d'une clé."
   ]
  },
  {
   "cell_type": "code",
   "execution_count": null,
   "metadata": {},
   "outputs": [],
   "source": [
    "note_math['Marie']"
   ]
  },
  {
   "cell_type": "markdown",
   "metadata": {},
   "source": [
    "Parcourir un dictionnaire via la fonction items()."
   ]
  },
  {
   "cell_type": "code",
   "execution_count": null,
   "metadata": {},
   "outputs": [],
   "source": [
    "for cle, valeur in note_math.items() :\n",
    "    print(f'{cle} a eu {valeur} en math.')"
   ]
  },
  {
   "cell_type": "markdown",
   "source": [],
   "metadata": {
    "collapsed": false
   }
  },
  {
   "cell_type": "markdown",
   "metadata": {},
   "source": [
    "### Exercice\n",
    "\n",
    "Compter le nombre d'apparition de chaque animaux de la liste et stocker le tout dans un dictionnaire."
   ]
  },
  {
   "cell_type": "code",
   "execution_count": 10,
   "metadata": {
    "ExecuteTime": {
     "end_time": "2024-01-15T13:33:10.123695Z",
     "start_time": "2024-01-15T13:33:10.094955Z"
    }
   },
   "outputs": [
    {
     "name": "stdout",
     "output_type": "stream",
     "text": [
      "{'Chien': 3, 'Chat': 4, 'Poule': 2}\n"
     ]
    }
   ],
   "source": [
    "# Liste des animaux\n",
    "animals = ['Chien', 'Chat', 'Chat', 'Poule', 'Chat', 'Poule', 'Chien', 'Chat', 'Chien']\n",
    "\n",
    "# Initialisation du dictionnaire de comptage\n",
    "compteur_animaux = {}\n",
    "\n",
    "# Boucle pour compter les occurrences\n",
    "for animal in animals:\n",
    "    # Vérifie si l'animal est déjà dans le dictionnaire\n",
    "    if animal in compteur_animaux:\n",
    "        # Si oui, incrémente le compteur\n",
    "        compteur_animaux[animal] += 1\n",
    "    else:\n",
    "        # Si non, ajoute l'animal au dictionnaire avec un compteur initial de 1\n",
    "        compteur_animaux[animal] = 1\n",
    "\n",
    "# Affichage du résultat\n",
    "print(compteur_animaux)\n",
    "\n"
   ]
  },
  {
   "cell_type": "markdown",
   "metadata": {},
   "source": [
    "## Fonction"
   ]
  },
  {
   "cell_type": "markdown",
   "metadata": {},
   "source": [
    "Les fonctions sont très utiles pour réaliser plusieurs fois la même opération au sein d'un programme. Elles rendent également le code plus lisible et plus clair en le fractionnant en blocs logiques."
   ]
  },
  {
   "cell_type": "code",
   "execution_count": 11,
   "metadata": {
    "ExecuteTime": {
     "end_time": "2024-01-15T13:33:15.016852Z",
     "start_time": "2024-01-15T13:33:15.000415Z"
    }
   },
   "outputs": [],
   "source": [
    "def mention(note) :\n",
    "    if note >= 16 :\n",
    "        return \"Très bien\"\n",
    "    elif note >= 14 and note < 16 :\n",
    "        return \"Bien\" \n",
    "    elif note >= 12 and note < 14 :\n",
    "        return \"Assez bien\" \n",
    "    elif note >= 10 and note < 12 :\n",
    "        return \"Admis\" \n",
    "    else :\n",
    "        return \"Non admis\""
   ]
  },
  {
   "cell_type": "code",
   "execution_count": 12,
   "metadata": {
    "ExecuteTime": {
     "end_time": "2024-01-15T13:33:15.457683Z",
     "start_time": "2024-01-15T13:33:15.426119Z"
    }
   },
   "outputs": [
    {
     "name": "stdout",
     "output_type": "stream",
     "text": [
      "Bien\n"
     ]
    }
   ],
   "source": [
    "note = 14.2\n",
    "print(mention(note))"
   ]
  },
  {
   "cell_type": "markdown",
   "metadata": {},
   "source": [
    "### Exercice\n",
    "\n",
    "Créer une fonction qui prend en entrée un dictionnaire, et qui retourne les prénoms des élèves qui ont plus de 10 dans une liste."
   ]
  },
  {
   "cell_type": "code",
   "execution_count": 13,
   "metadata": {
    "ExecuteTime": {
     "end_time": "2024-01-15T13:40:02.929590Z",
     "start_time": "2024-01-15T13:40:02.907551Z"
    }
   },
   "outputs": [
    {
     "name": "stdout",
     "output_type": "stream",
     "text": [
      "Élèves avec une note supérieure à 10 : ['Jean', 'Pierre', 'Marie', 'Louise']\n"
     ]
    }
   ],
   "source": [
    "def eleves_sup_10(dictionnaire_notes):\n",
    "    # Liste des prénoms des élèves avec une note supérieure à 10\n",
    "    eleves_sup_10_liste = []\n",
    "    \n",
    "    # Boucle pour parcourir le dictionnaire\n",
    "    for prenom, note in dictionnaire_notes.items():\n",
    "        # Condition pour vérifier si la note est supérieure à 10\n",
    "        if note > 10:\n",
    "            eleves_sup_10_liste.append(prenom)\n",
    "    \n",
    "    return eleves_sup_10_liste\n",
    "\n",
    "# Dictionnaire des notes\n",
    "note_math = {'Jean': 16, 'Pierre': 14, 'Marie': 15, 'François': 8, 'Louise': 10.5}\n",
    "\n",
    "# Appel de la fonction avec le dictionnaire des notes en paramètre\n",
    "resultat = eleves_sup_10(note_math)\n",
    "\n",
    "# Affichage du résultat\n",
    "print(\"Élèves avec une note supérieure à 10 :\", resultat)\n",
    "\n"
   ]
  },
  {
   "cell_type": "markdown",
   "metadata": {},
   "source": [
    "## Data frame"
   ]
  },
  {
   "cell_type": "markdown",
   "metadata": {},
   "source": [
    "Structure de données de forme tableau, de la librairie pandas."
   ]
  },
  {
   "cell_type": "code",
   "execution_count": 14,
   "metadata": {
    "ExecuteTime": {
     "end_time": "2024-01-15T13:42:25.217870Z",
     "start_time": "2024-01-15T13:42:11.442820Z"
    }
   },
   "outputs": [
    {
     "name": "stdout",
     "output_type": "stream",
     "text": [
      "Collecting pandas\r\n",
      "  Obtaining dependency information for pandas from https://files.pythonhosted.org/packages/0b/e0/8d97c7ecd73624f4cd5755578990b3cfbc6bbe350b8e017ede3580173a6f/pandas-2.1.4-cp312-cp312-macosx_11_0_arm64.whl.metadata\r\n",
      "  Downloading pandas-2.1.4-cp312-cp312-macosx_11_0_arm64.whl.metadata (18 kB)\r\n",
      "Collecting numpy<2,>=1.26.0 (from pandas)\r\n",
      "  Obtaining dependency information for numpy<2,>=1.26.0 from https://files.pythonhosted.org/packages/94/9c/f1e88764737c126637d0434df712b1baa371a404a3e3751ee997e74e164b/numpy-1.26.3-cp312-cp312-macosx_11_0_arm64.whl.metadata\r\n",
      "  Downloading numpy-1.26.3-cp312-cp312-macosx_11_0_arm64.whl.metadata (61 kB)\r\n",
      "\u001B[2K     \u001B[90m━━━━━━━━━━━━━━━━━━━━━━━━━━━━━━━━━━━━━━━━\u001B[0m \u001B[32m61.2/61.2 kB\u001B[0m \u001B[31m2.5 MB/s\u001B[0m eta \u001B[36m0:00:00\u001B[0ma \u001B[36m0:00:01\u001B[0m\r\n",
      "\u001B[?25hRequirement already satisfied: python-dateutil>=2.8.2 in ./.venv/lib/python3.12/site-packages (from pandas) (2.8.2)\r\n",
      "Collecting pytz>=2020.1 (from pandas)\r\n",
      "  Obtaining dependency information for pytz>=2020.1 from https://files.pythonhosted.org/packages/32/4d/aaf7eff5deb402fd9a24a1449a8119f00d74ae9c2efa79f8ef9994261fc2/pytz-2023.3.post1-py2.py3-none-any.whl.metadata\r\n",
      "  Downloading pytz-2023.3.post1-py2.py3-none-any.whl.metadata (22 kB)\r\n",
      "Collecting tzdata>=2022.1 (from pandas)\r\n",
      "  Obtaining dependency information for tzdata>=2022.1 from https://files.pythonhosted.org/packages/a3/fb/52b62131e21b24ee297e4e95ed41eba29647dad0e0051a92bb66b43c70ff/tzdata-2023.4-py2.py3-none-any.whl.metadata\r\n",
      "  Downloading tzdata-2023.4-py2.py3-none-any.whl.metadata (1.4 kB)\r\n",
      "Requirement already satisfied: six>=1.5 in ./.venv/lib/python3.12/site-packages (from python-dateutil>=2.8.2->pandas) (1.16.0)\r\n",
      "Downloading pandas-2.1.4-cp312-cp312-macosx_11_0_arm64.whl (10.6 MB)\r\n",
      "\u001B[2K   \u001B[90m━━━━━━━━━━━━━━━━━━━━━━━━━━━━━━━━━━━━━━━━\u001B[0m \u001B[32m10.6/10.6 MB\u001B[0m \u001B[31m3.4 MB/s\u001B[0m eta \u001B[36m0:00:00\u001B[0m00:01\u001B[0m00:01\u001B[0m\r\n",
      "\u001B[?25hDownloading numpy-1.26.3-cp312-cp312-macosx_11_0_arm64.whl (13.7 MB)\r\n",
      "\u001B[2K   \u001B[90m━━━━━━━━━━━━━━━━━━━━━━━━━━━━━━━━━━━━━━━━\u001B[0m \u001B[32m13.7/13.7 MB\u001B[0m \u001B[31m5.1 MB/s\u001B[0m eta \u001B[36m0:00:00\u001B[0m00:01\u001B[0m00:01\u001B[0m\r\n",
      "\u001B[?25hDownloading pytz-2023.3.post1-py2.py3-none-any.whl (502 kB)\r\n",
      "\u001B[2K   \u001B[90m━━━━━━━━━━━━━━━━━━━━━━━━━━━━━━━━━━━━━━━━\u001B[0m \u001B[32m502.5/502.5 kB\u001B[0m \u001B[31m4.1 MB/s\u001B[0m eta \u001B[36m0:00:00\u001B[0ma \u001B[36m0:00:01\u001B[0m\r\n",
      "\u001B[?25hDownloading tzdata-2023.4-py2.py3-none-any.whl (346 kB)\r\n",
      "\u001B[2K   \u001B[90m━━━━━━━━━━━━━━━━━━━━━━━━━━━━━━━━━━━━━━━━\u001B[0m \u001B[32m346.6/346.6 kB\u001B[0m \u001B[31m3.3 MB/s\u001B[0m eta \u001B[36m0:00:00\u001B[0ma \u001B[36m0:00:01\u001B[0m\r\n",
      "\u001B[?25hInstalling collected packages: pytz, tzdata, numpy, pandas\r\n",
      "Successfully installed numpy-1.26.3 pandas-2.1.4 pytz-2023.3.post1 tzdata-2023.4\r\n",
      "\r\n",
      "\u001B[1m[\u001B[0m\u001B[34;49mnotice\u001B[0m\u001B[1;39;49m]\u001B[0m\u001B[39;49m A new release of pip is available: \u001B[0m\u001B[31;49m23.2.1\u001B[0m\u001B[39;49m -> \u001B[0m\u001B[32;49m23.3.2\u001B[0m\r\n",
      "\u001B[1m[\u001B[0m\u001B[34;49mnotice\u001B[0m\u001B[1;39;49m]\u001B[0m\u001B[39;49m To update, run: \u001B[0m\u001B[32;49mpip install --upgrade pip\u001B[0m\r\n",
      "Note: you may need to restart the kernel to use updated packages.\n",
      "Collecting openpyxl\r\n",
      "  Downloading openpyxl-3.1.2-py2.py3-none-any.whl (249 kB)\r\n",
      "\u001B[2K     \u001B[90m━━━━━━━━━━━━━━━━━━━━━━━━━━━━━━━━━━━━━━━\u001B[0m \u001B[32m250.0/250.0 kB\u001B[0m \u001B[31m2.1 MB/s\u001B[0m eta \u001B[36m0:00:00\u001B[0m00:01\u001B[0m00:01\u001B[0m\r\n",
      "\u001B[?25hCollecting et-xmlfile (from openpyxl)\r\n",
      "  Downloading et_xmlfile-1.1.0-py3-none-any.whl (4.7 kB)\r\n",
      "Installing collected packages: et-xmlfile, openpyxl\r\n",
      "Successfully installed et-xmlfile-1.1.0 openpyxl-3.1.2\r\n",
      "\r\n",
      "\u001B[1m[\u001B[0m\u001B[34;49mnotice\u001B[0m\u001B[1;39;49m]\u001B[0m\u001B[39;49m A new release of pip is available: \u001B[0m\u001B[31;49m23.2.1\u001B[0m\u001B[39;49m -> \u001B[0m\u001B[32;49m23.3.2\u001B[0m\r\n",
      "\u001B[1m[\u001B[0m\u001B[34;49mnotice\u001B[0m\u001B[1;39;49m]\u001B[0m\u001B[39;49m To update, run: \u001B[0m\u001B[32;49mpip install --upgrade pip\u001B[0m\r\n",
      "Note: you may need to restart the kernel to use updated packages.\n"
     ]
    }
   ],
   "source": [
    "\n",
    "%pip install pandas\n",
    "%pip install openpyxl"
   ]
  },
  {
   "cell_type": "markdown",
   "metadata": {},
   "source": [
    "Lecture d'un fichier."
   ]
  },
  {
   "cell_type": "code",
   "execution_count": 27,
   "metadata": {
    "ExecuteTime": {
     "end_time": "2024-01-15T13:48:57.159526Z",
     "start_time": "2024-01-15T13:48:57.059050Z"
    }
   },
   "outputs": [],
   "source": [
    "import pandas as pd\n",
    "data = pd.read_excel(\"Titanic_dataset.xlsx\")"
   ]
  },
  {
   "cell_type": "markdown",
   "metadata": {},
   "source": [
    "Affichage des premières lignes du dataframe."
   ]
  },
  {
   "cell_type": "code",
   "execution_count": 28,
   "metadata": {
    "ExecuteTime": {
     "end_time": "2024-01-15T13:48:59.402856Z",
     "start_time": "2024-01-15T13:48:59.386563Z"
    }
   },
   "outputs": [
    {
     "data": {
      "text/plain": "   pclass  survived                                             name     sex  \\\n0       1         1                    Allen, Miss. Elisabeth Walton  female   \n1       1         1                   Allison, Master. Hudson Trevor    male   \n2       1         0                     Allison, Miss. Helen Loraine  female   \n3       1         0             Allison, Mr. Hudson Joshua Creighton    male   \n4       1         0  Allison, Mrs. Hudson J C (Bessie Waldo Daniels)  female   \n\n       age  sibsp  parch  ticket      fare    cabin embarked boat   body  \\\n0  29.0000      0      0   24160  211.3375       B5        S    2    NaN   \n1   0.9167      1      2  113781  151.5500  C22 C26        S   11    NaN   \n2   2.0000      1      2  113781  151.5500  C22 C26        S  NaN    NaN   \n3  30.0000      1      2  113781  151.5500  C22 C26        S  NaN  135.0   \n4  25.0000      1      2  113781  151.5500  C22 C26        S  NaN    NaN   \n\n                         home.dest  \n0                     St Louis, MO  \n1  Montreal, PQ / Chesterville, ON  \n2  Montreal, PQ / Chesterville, ON  \n3  Montreal, PQ / Chesterville, ON  \n4  Montreal, PQ / Chesterville, ON  ",
      "text/html": "<div>\n<style scoped>\n    .dataframe tbody tr th:only-of-type {\n        vertical-align: middle;\n    }\n\n    .dataframe tbody tr th {\n        vertical-align: top;\n    }\n\n    .dataframe thead th {\n        text-align: right;\n    }\n</style>\n<table border=\"1\" class=\"dataframe\">\n  <thead>\n    <tr style=\"text-align: right;\">\n      <th></th>\n      <th>pclass</th>\n      <th>survived</th>\n      <th>name</th>\n      <th>sex</th>\n      <th>age</th>\n      <th>sibsp</th>\n      <th>parch</th>\n      <th>ticket</th>\n      <th>fare</th>\n      <th>cabin</th>\n      <th>embarked</th>\n      <th>boat</th>\n      <th>body</th>\n      <th>home.dest</th>\n    </tr>\n  </thead>\n  <tbody>\n    <tr>\n      <th>0</th>\n      <td>1</td>\n      <td>1</td>\n      <td>Allen, Miss. Elisabeth Walton</td>\n      <td>female</td>\n      <td>29.0000</td>\n      <td>0</td>\n      <td>0</td>\n      <td>24160</td>\n      <td>211.3375</td>\n      <td>B5</td>\n      <td>S</td>\n      <td>2</td>\n      <td>NaN</td>\n      <td>St Louis, MO</td>\n    </tr>\n    <tr>\n      <th>1</th>\n      <td>1</td>\n      <td>1</td>\n      <td>Allison, Master. Hudson Trevor</td>\n      <td>male</td>\n      <td>0.9167</td>\n      <td>1</td>\n      <td>2</td>\n      <td>113781</td>\n      <td>151.5500</td>\n      <td>C22 C26</td>\n      <td>S</td>\n      <td>11</td>\n      <td>NaN</td>\n      <td>Montreal, PQ / Chesterville, ON</td>\n    </tr>\n    <tr>\n      <th>2</th>\n      <td>1</td>\n      <td>0</td>\n      <td>Allison, Miss. Helen Loraine</td>\n      <td>female</td>\n      <td>2.0000</td>\n      <td>1</td>\n      <td>2</td>\n      <td>113781</td>\n      <td>151.5500</td>\n      <td>C22 C26</td>\n      <td>S</td>\n      <td>NaN</td>\n      <td>NaN</td>\n      <td>Montreal, PQ / Chesterville, ON</td>\n    </tr>\n    <tr>\n      <th>3</th>\n      <td>1</td>\n      <td>0</td>\n      <td>Allison, Mr. Hudson Joshua Creighton</td>\n      <td>male</td>\n      <td>30.0000</td>\n      <td>1</td>\n      <td>2</td>\n      <td>113781</td>\n      <td>151.5500</td>\n      <td>C22 C26</td>\n      <td>S</td>\n      <td>NaN</td>\n      <td>135.0</td>\n      <td>Montreal, PQ / Chesterville, ON</td>\n    </tr>\n    <tr>\n      <th>4</th>\n      <td>1</td>\n      <td>0</td>\n      <td>Allison, Mrs. Hudson J C (Bessie Waldo Daniels)</td>\n      <td>female</td>\n      <td>25.0000</td>\n      <td>1</td>\n      <td>2</td>\n      <td>113781</td>\n      <td>151.5500</td>\n      <td>C22 C26</td>\n      <td>S</td>\n      <td>NaN</td>\n      <td>NaN</td>\n      <td>Montreal, PQ / Chesterville, ON</td>\n    </tr>\n  </tbody>\n</table>\n</div>"
     },
     "execution_count": 28,
     "metadata": {},
     "output_type": "execute_result"
    }
   ],
   "source": [
    "data.head()"
   ]
  },
  {
   "cell_type": "markdown",
   "metadata": {},
   "source": [
    "Dimension du dataframe."
   ]
  },
  {
   "cell_type": "code",
   "execution_count": 29,
   "metadata": {
    "ExecuteTime": {
     "end_time": "2024-01-15T13:48:59.795514Z",
     "start_time": "2024-01-15T13:48:59.786406Z"
    }
   },
   "outputs": [
    {
     "data": {
      "text/plain": "(1309, 14)"
     },
     "execution_count": 29,
     "metadata": {},
     "output_type": "execute_result"
    }
   ],
   "source": [
    "data.shape"
   ]
  },
  {
   "cell_type": "markdown",
   "metadata": {},
   "source": [
    "Info sur le dataframe :\n",
    " - dimensions\n",
    " - colonnes\n",
    " - nombre de valeurs nulles par colonne\n",
    " - type de chaque colonne\n"
   ]
  },
  {
   "cell_type": "code",
   "execution_count": 30,
   "metadata": {
    "ExecuteTime": {
     "end_time": "2024-01-15T13:49:00.620411Z",
     "start_time": "2024-01-15T13:49:00.616184Z"
    }
   },
   "outputs": [
    {
     "name": "stdout",
     "output_type": "stream",
     "text": [
      "<class 'pandas.core.frame.DataFrame'>\n",
      "RangeIndex: 1309 entries, 0 to 1308\n",
      "Data columns (total 14 columns):\n",
      " #   Column     Non-Null Count  Dtype  \n",
      "---  ------     --------------  -----  \n",
      " 0   pclass     1309 non-null   int64  \n",
      " 1   survived   1309 non-null   int64  \n",
      " 2   name       1309 non-null   object \n",
      " 3   sex        1309 non-null   object \n",
      " 4   age        1046 non-null   float64\n",
      " 5   sibsp      1309 non-null   int64  \n",
      " 6   parch      1309 non-null   int64  \n",
      " 7   ticket     1309 non-null   object \n",
      " 8   fare       1308 non-null   float64\n",
      " 9   cabin      295 non-null    object \n",
      " 10  embarked   1307 non-null   object \n",
      " 11  boat       486 non-null    object \n",
      " 12  body       121 non-null    float64\n",
      " 13  home.dest  745 non-null    object \n",
      "dtypes: float64(3), int64(4), object(7)\n",
      "memory usage: 143.3+ KB\n"
     ]
    }
   ],
   "source": [
    "data.info()"
   ]
  },
  {
   "cell_type": "markdown",
   "metadata": {},
   "source": [
    "Sélection d'une ligne."
   ]
  },
  {
   "cell_type": "code",
   "execution_count": 31,
   "metadata": {
    "ExecuteTime": {
     "end_time": "2024-01-15T13:49:01.459812Z",
     "start_time": "2024-01-15T13:49:01.454080Z"
    }
   },
   "outputs": [
    {
     "data": {
      "text/plain": "pclass                                   1\nsurvived                                 1\nname         Allen, Miss. Elisabeth Walton\nsex                                 female\nage                                   29.0\nsibsp                                    0\nparch                                    0\nticket                               24160\nfare                              211.3375\ncabin                                   B5\nembarked                                 S\nboat                                     2\nbody                                   NaN\nhome.dest                     St Louis, MO\nName: 0, dtype: object"
     },
     "execution_count": 31,
     "metadata": {},
     "output_type": "execute_result"
    }
   ],
   "source": [
    "data.loc[0]"
   ]
  },
  {
   "cell_type": "markdown",
   "metadata": {},
   "source": [
    "Sélection de plusieurs lignes."
   ]
  },
  {
   "cell_type": "code",
   "execution_count": 32,
   "metadata": {
    "ExecuteTime": {
     "end_time": "2024-01-15T13:49:02.387479Z",
     "start_time": "2024-01-15T13:49:02.366681Z"
    }
   },
   "outputs": [
    {
     "data": {
      "text/plain": "   pclass  survived                                             name     sex  \\\n3       1         0             Allison, Mr. Hudson Joshua Creighton    male   \n4       1         0  Allison, Mrs. Hudson J C (Bessie Waldo Daniels)  female   \n5       1         1                              Anderson, Mr. Harry    male   \n6       1         1                Andrews, Miss. Kornelia Theodosia  female   \n\n    age  sibsp  parch  ticket      fare    cabin embarked boat   body  \\\n3  30.0      1      2  113781  151.5500  C22 C26        S  NaN  135.0   \n4  25.0      1      2  113781  151.5500  C22 C26        S  NaN    NaN   \n5  48.0      0      0   19952   26.5500      E12        S    3    NaN   \n6  63.0      1      0   13502   77.9583       D7        S   10    NaN   \n\n                         home.dest  \n3  Montreal, PQ / Chesterville, ON  \n4  Montreal, PQ / Chesterville, ON  \n5                     New York, NY  \n6                       Hudson, NY  ",
      "text/html": "<div>\n<style scoped>\n    .dataframe tbody tr th:only-of-type {\n        vertical-align: middle;\n    }\n\n    .dataframe tbody tr th {\n        vertical-align: top;\n    }\n\n    .dataframe thead th {\n        text-align: right;\n    }\n</style>\n<table border=\"1\" class=\"dataframe\">\n  <thead>\n    <tr style=\"text-align: right;\">\n      <th></th>\n      <th>pclass</th>\n      <th>survived</th>\n      <th>name</th>\n      <th>sex</th>\n      <th>age</th>\n      <th>sibsp</th>\n      <th>parch</th>\n      <th>ticket</th>\n      <th>fare</th>\n      <th>cabin</th>\n      <th>embarked</th>\n      <th>boat</th>\n      <th>body</th>\n      <th>home.dest</th>\n    </tr>\n  </thead>\n  <tbody>\n    <tr>\n      <th>3</th>\n      <td>1</td>\n      <td>0</td>\n      <td>Allison, Mr. Hudson Joshua Creighton</td>\n      <td>male</td>\n      <td>30.0</td>\n      <td>1</td>\n      <td>2</td>\n      <td>113781</td>\n      <td>151.5500</td>\n      <td>C22 C26</td>\n      <td>S</td>\n      <td>NaN</td>\n      <td>135.0</td>\n      <td>Montreal, PQ / Chesterville, ON</td>\n    </tr>\n    <tr>\n      <th>4</th>\n      <td>1</td>\n      <td>0</td>\n      <td>Allison, Mrs. Hudson J C (Bessie Waldo Daniels)</td>\n      <td>female</td>\n      <td>25.0</td>\n      <td>1</td>\n      <td>2</td>\n      <td>113781</td>\n      <td>151.5500</td>\n      <td>C22 C26</td>\n      <td>S</td>\n      <td>NaN</td>\n      <td>NaN</td>\n      <td>Montreal, PQ / Chesterville, ON</td>\n    </tr>\n    <tr>\n      <th>5</th>\n      <td>1</td>\n      <td>1</td>\n      <td>Anderson, Mr. Harry</td>\n      <td>male</td>\n      <td>48.0</td>\n      <td>0</td>\n      <td>0</td>\n      <td>19952</td>\n      <td>26.5500</td>\n      <td>E12</td>\n      <td>S</td>\n      <td>3</td>\n      <td>NaN</td>\n      <td>New York, NY</td>\n    </tr>\n    <tr>\n      <th>6</th>\n      <td>1</td>\n      <td>1</td>\n      <td>Andrews, Miss. Kornelia Theodosia</td>\n      <td>female</td>\n      <td>63.0</td>\n      <td>1</td>\n      <td>0</td>\n      <td>13502</td>\n      <td>77.9583</td>\n      <td>D7</td>\n      <td>S</td>\n      <td>10</td>\n      <td>NaN</td>\n      <td>Hudson, NY</td>\n    </tr>\n  </tbody>\n</table>\n</div>"
     },
     "execution_count": 32,
     "metadata": {},
     "output_type": "execute_result"
    }
   ],
   "source": [
    "data.loc[3:6]"
   ]
  },
  {
   "cell_type": "markdown",
   "metadata": {},
   "source": [
    "Sélection d'une colonne."
   ]
  },
  {
   "cell_type": "code",
   "execution_count": 33,
   "metadata": {
    "ExecuteTime": {
     "end_time": "2024-01-15T13:49:03.440297Z",
     "start_time": "2024-01-15T13:49:03.431611Z"
    }
   },
   "outputs": [
    {
     "data": {
      "text/plain": "0                         Allen, Miss. Elisabeth Walton\n1                        Allison, Master. Hudson Trevor\n2                          Allison, Miss. Helen Loraine\n3                  Allison, Mr. Hudson Joshua Creighton\n4       Allison, Mrs. Hudson J C (Bessie Waldo Daniels)\n                             ...                       \n1304                               Zabour, Miss. Hileni\n1305                              Zabour, Miss. Thamine\n1306                          Zakarian, Mr. Mapriededer\n1307                                Zakarian, Mr. Ortin\n1308                                 Zimmerman, Mr. Leo\nName: name, Length: 1309, dtype: object"
     },
     "execution_count": 33,
     "metadata": {},
     "output_type": "execute_result"
    }
   ],
   "source": [
    "data['name']"
   ]
  },
  {
   "cell_type": "markdown",
   "metadata": {},
   "source": [
    "Sélection de plusieurs colonnes."
   ]
  },
  {
   "cell_type": "code",
   "execution_count": 34,
   "metadata": {
    "ExecuteTime": {
     "end_time": "2024-01-15T13:49:04.533821Z",
     "start_time": "2024-01-15T13:49:04.506405Z"
    }
   },
   "outputs": [
    {
     "data": {
      "text/plain": "                                                 name     sex\n0                       Allen, Miss. Elisabeth Walton  female\n1                      Allison, Master. Hudson Trevor    male\n2                        Allison, Miss. Helen Loraine  female\n3                Allison, Mr. Hudson Joshua Creighton    male\n4     Allison, Mrs. Hudson J C (Bessie Waldo Daniels)  female\n...                                               ...     ...\n1304                             Zabour, Miss. Hileni  female\n1305                            Zabour, Miss. Thamine  female\n1306                        Zakarian, Mr. Mapriededer    male\n1307                              Zakarian, Mr. Ortin    male\n1308                               Zimmerman, Mr. Leo    male\n\n[1309 rows x 2 columns]",
      "text/html": "<div>\n<style scoped>\n    .dataframe tbody tr th:only-of-type {\n        vertical-align: middle;\n    }\n\n    .dataframe tbody tr th {\n        vertical-align: top;\n    }\n\n    .dataframe thead th {\n        text-align: right;\n    }\n</style>\n<table border=\"1\" class=\"dataframe\">\n  <thead>\n    <tr style=\"text-align: right;\">\n      <th></th>\n      <th>name</th>\n      <th>sex</th>\n    </tr>\n  </thead>\n  <tbody>\n    <tr>\n      <th>0</th>\n      <td>Allen, Miss. Elisabeth Walton</td>\n      <td>female</td>\n    </tr>\n    <tr>\n      <th>1</th>\n      <td>Allison, Master. Hudson Trevor</td>\n      <td>male</td>\n    </tr>\n    <tr>\n      <th>2</th>\n      <td>Allison, Miss. Helen Loraine</td>\n      <td>female</td>\n    </tr>\n    <tr>\n      <th>3</th>\n      <td>Allison, Mr. Hudson Joshua Creighton</td>\n      <td>male</td>\n    </tr>\n    <tr>\n      <th>4</th>\n      <td>Allison, Mrs. Hudson J C (Bessie Waldo Daniels)</td>\n      <td>female</td>\n    </tr>\n    <tr>\n      <th>...</th>\n      <td>...</td>\n      <td>...</td>\n    </tr>\n    <tr>\n      <th>1304</th>\n      <td>Zabour, Miss. Hileni</td>\n      <td>female</td>\n    </tr>\n    <tr>\n      <th>1305</th>\n      <td>Zabour, Miss. Thamine</td>\n      <td>female</td>\n    </tr>\n    <tr>\n      <th>1306</th>\n      <td>Zakarian, Mr. Mapriededer</td>\n      <td>male</td>\n    </tr>\n    <tr>\n      <th>1307</th>\n      <td>Zakarian, Mr. Ortin</td>\n      <td>male</td>\n    </tr>\n    <tr>\n      <th>1308</th>\n      <td>Zimmerman, Mr. Leo</td>\n      <td>male</td>\n    </tr>\n  </tbody>\n</table>\n<p>1309 rows × 2 columns</p>\n</div>"
     },
     "execution_count": 34,
     "metadata": {},
     "output_type": "execute_result"
    }
   ],
   "source": [
    "data[['name','sex']]"
   ]
  },
  {
   "cell_type": "markdown",
   "metadata": {},
   "source": [
    "#### Exercice\n",
    "Afficher les 5 derniers lignes des colonnes name, sex et age."
   ]
  },
  {
   "cell_type": "code",
   "execution_count": 35,
   "metadata": {
    "ExecuteTime": {
     "end_time": "2024-01-15T13:49:05.946453Z",
     "start_time": "2024-01-15T13:49:05.933822Z"
    }
   },
   "outputs": [
    {
     "name": "stdout",
     "output_type": "stream",
     "text": [
      "      name sex  age\n",
      "0    Alice   F   25\n",
      "1      Bob   M   30\n",
      "2  Charlie   M   22\n",
      "3    David   M   28\n",
      "4    Emily   F   35\n"
     ]
    }
   ],
   "source": [
    "import pandas as pd\n",
    "\n",
    "# Supposons que votre DataFrame s'appelle df (à adapter en fonction de votre cas)\n",
    "# Vous devez avoir un DataFrame avec les colonnes 'name', 'sex', et 'age'\n",
    "\n",
    "# Exemple de création d'un DataFrame fictif\n",
    "data = {'name': ['Alice', 'Bob', 'Charlie', 'David', 'Emily'],\n",
    "        'sex': ['F', 'M', 'M', 'M', 'F'],\n",
    "        'age': [25, 30, 22, 28, 35]}\n",
    "\n",
    "df = pd.DataFrame(data)\n",
    "\n",
    "# Affichage des 5 dernières lignes des colonnes 'name', 'sex', et 'age'\n",
    "dernieres_lignes = df[['name', 'sex', 'age']].tail(5)\n",
    "\n",
    "# Affichage du résultat\n",
    "print(dernieres_lignes)\n"
   ]
  },
  {
   "cell_type": "markdown",
   "metadata": {},
   "source": [
    "### Manipulation de données avec Pandas"
   ]
  },
  {
   "cell_type": "markdown",
   "metadata": {},
   "source": [
    "Filtrer les lignes suivant une condition."
   ]
  },
  {
   "cell_type": "code",
   "execution_count": 36,
   "metadata": {
    "ExecuteTime": {
     "end_time": "2024-01-15T13:49:08.522994Z",
     "start_time": "2024-01-15T13:49:08.512251Z"
    }
   },
   "outputs": [
    {
     "ename": "KeyError",
     "evalue": "'survived'",
     "output_type": "error",
     "traceback": [
      "\u001B[0;31m---------------------------------------------------------------------------\u001B[0m",
      "\u001B[0;31mKeyError\u001B[0m                                  Traceback (most recent call last)",
      "Cell \u001B[0;32mIn[36], line 1\u001B[0m\n\u001B[0;32m----> 1\u001B[0m data_survived \u001B[38;5;241m=\u001B[39m data[\u001B[43mdata\u001B[49m\u001B[43m[\u001B[49m\u001B[38;5;124;43m'\u001B[39;49m\u001B[38;5;124;43msurvived\u001B[39;49m\u001B[38;5;124;43m'\u001B[39;49m\u001B[43m]\u001B[49m \u001B[38;5;241m==\u001B[39m \u001B[38;5;241m1\u001B[39m]\n\u001B[1;32m      2\u001B[0m data_survived\n",
      "\u001B[0;31mKeyError\u001B[0m: 'survived'"
     ]
    }
   ],
   "source": [
    "data_survived = data[data['survived'] == 1]\n",
    "data_survived"
   ]
  },
  {
   "cell_type": "markdown",
   "metadata": {},
   "source": [
    "Filtrer les lignes suivant plusieurs conditions."
   ]
  },
  {
   "cell_type": "code",
   "execution_count": 37,
   "metadata": {
    "ExecuteTime": {
     "end_time": "2024-01-15T13:49:10.374421Z",
     "start_time": "2024-01-15T13:49:10.356668Z"
    }
   },
   "outputs": [
    {
     "ename": "KeyError",
     "evalue": "'pclass'",
     "output_type": "error",
     "traceback": [
      "\u001B[0;31m---------------------------------------------------------------------------\u001B[0m",
      "\u001B[0;31mKeyError\u001B[0m                                  Traceback (most recent call last)",
      "Cell \u001B[0;32mIn[37], line 1\u001B[0m\n\u001B[0;32m----> 1\u001B[0m data_survived_class1 \u001B[38;5;241m=\u001B[39m data[(\u001B[43mdata\u001B[49m\u001B[43m[\u001B[49m\u001B[38;5;124;43m'\u001B[39;49m\u001B[38;5;124;43mpclass\u001B[39;49m\u001B[38;5;124;43m'\u001B[39;49m\u001B[43m]\u001B[49m \u001B[38;5;241m==\u001B[39m \u001B[38;5;241m1\u001B[39m) \u001B[38;5;241m&\u001B[39m (data[\u001B[38;5;124m'\u001B[39m\u001B[38;5;124msurvived\u001B[39m\u001B[38;5;124m'\u001B[39m] \u001B[38;5;241m==\u001B[39m \u001B[38;5;241m1\u001B[39m)]\n\u001B[1;32m      2\u001B[0m data_survived_class1\n",
      "\u001B[0;31mKeyError\u001B[0m: 'pclass'"
     ]
    }
   ],
   "source": [
    "data_survived_class1 = data[(data['pclass'] == 1) & (data['survived'] == 1)]\n",
    "data_survived_class1"
   ]
  },
  {
   "cell_type": "markdown",
   "metadata": {},
   "source": [
    "Trier un data frame."
   ]
  },
  {
   "cell_type": "code",
   "execution_count": 38,
   "metadata": {
    "ExecuteTime": {
     "end_time": "2024-01-15T13:49:12.157956Z",
     "start_time": "2024-01-15T13:49:12.143755Z"
    }
   },
   "outputs": [
    {
     "ename": "AttributeError",
     "evalue": "'dict' object has no attribute 'sort_values'",
     "output_type": "error",
     "traceback": [
      "\u001B[0;31m---------------------------------------------------------------------------\u001B[0m",
      "\u001B[0;31mAttributeError\u001B[0m                            Traceback (most recent call last)",
      "Cell \u001B[0;32mIn[38], line 1\u001B[0m\n\u001B[0;32m----> 1\u001B[0m \u001B[43mdata\u001B[49m\u001B[38;5;241;43m.\u001B[39;49m\u001B[43msort_values\u001B[49m(\u001B[38;5;124m'\u001B[39m\u001B[38;5;124mage\u001B[39m\u001B[38;5;124m'\u001B[39m)\n",
      "\u001B[0;31mAttributeError\u001B[0m: 'dict' object has no attribute 'sort_values'"
     ]
    }
   ],
   "source": [
    "data.sort_values('age')"
   ]
  },
  {
   "cell_type": "markdown",
   "metadata": {},
   "source": [
    "Opération sur une colonne."
   ]
  },
  {
   "cell_type": "code",
   "execution_count": 39,
   "metadata": {
    "ExecuteTime": {
     "end_time": "2024-01-15T13:49:13.917485Z",
     "start_time": "2024-01-15T13:49:13.893607Z"
    }
   },
   "outputs": [
    {
     "ename": "AttributeError",
     "evalue": "'list' object has no attribute 'loc'",
     "output_type": "error",
     "traceback": [
      "\u001B[0;31m---------------------------------------------------------------------------\u001B[0m",
      "\u001B[0;31mAttributeError\u001B[0m                            Traceback (most recent call last)",
      "Cell \u001B[0;32mIn[39], line 1\u001B[0m\n\u001B[0;32m----> 1\u001B[0m \u001B[43mdata\u001B[49m\u001B[43m[\u001B[49m\u001B[38;5;124;43m'\u001B[39;49m\u001B[38;5;124;43mage\u001B[39;49m\u001B[38;5;124;43m'\u001B[39;49m\u001B[43m]\u001B[49m\u001B[38;5;241;43m.\u001B[39;49m\u001B[43mloc\u001B[49m[data[\u001B[38;5;124m'\u001B[39m\u001B[38;5;124mage\u001B[39m\u001B[38;5;124m'\u001B[39m] \u001B[38;5;241m<\u001B[39m \u001B[38;5;241m1\u001B[39m] \u001B[38;5;241m=\u001B[39m \u001B[38;5;241m0\u001B[39m\n\u001B[1;32m      3\u001B[0m data\u001B[38;5;241m.\u001B[39msort_values(\u001B[38;5;124m'\u001B[39m\u001B[38;5;124mage\u001B[39m\u001B[38;5;124m'\u001B[39m)\n",
      "\u001B[0;31mAttributeError\u001B[0m: 'list' object has no attribute 'loc'"
     ]
    }
   ],
   "source": [
    "data['age'].loc[data['age'] < 1] = 0\n",
    "\n",
    "data.sort_values('age')"
   ]
  },
  {
   "cell_type": "markdown",
   "metadata": {},
   "source": [
    "### Exercice\n",
    "\n",
    "Créer un nouveau dataframe comprenant seulement les femmes qui ont survécu, l'afficher en le triant en fonction de la classe dans l'ordre décroissant."
   ]
  },
  {
   "cell_type": "code",
   "execution_count": 40,
   "metadata": {
    "ExecuteTime": {
     "end_time": "2024-01-15T13:50:01.970173Z",
     "start_time": "2024-01-15T13:50:01.950844Z"
    }
   },
   "outputs": [
    {
     "name": "stdout",
     "output_type": "stream",
     "text": [
      "      Name     Sex  Survived  Pclass\n",
      "2  Charlie  female         1       2\n",
      "0    Alice  female         1       1\n",
      "3    David  female         1       1\n"
     ]
    }
   ],
   "source": [
    "import pandas as pd\n",
    "\n",
    "# Supposons que votre DataFrame s'appelle df (à adapter en fonction de votre cas)\n",
    "# Vous devez avoir une colonne 'Sex' pour le genre, une colonne 'Survived' pour la survie,\n",
    "# et une colonne 'Pclass' pour la classe.\n",
    "\n",
    "# Exemple de création d'un DataFrame fictif\n",
    "data = {'Name': ['Alice', 'Bob', 'Charlie', 'David', 'Emily'],\n",
    "        'Sex': ['female', 'male', 'female', 'female', 'female'],\n",
    "        'Survived': [1, 0, 1, 1, 0],\n",
    "        'Pclass': [1, 3, 2, 1, 3]}\n",
    "\n",
    "df = pd.DataFrame(data)\n",
    "\n",
    "# Création du nouveau DataFrame avec seulement les femmes qui ont survécu\n",
    "nouveau_df = df[(df['Sex'] == 'female') & (df['Survived'] == 1)]\n",
    "\n",
    "# Tri du nouveau DataFrame en fonction de la classe dans l'ordre décroissant\n",
    "nouveau_df_trie = nouveau_df.sort_values(by='Pclass', ascending=False)\n",
    "\n",
    "# Affichage du résultat\n",
    "print(nouveau_df_trie)\n"
   ]
  },
  {
   "cell_type": "markdown",
   "metadata": {},
   "source": [
    "### Gestion des valeurs manquantes\n",
    "Sur pandas, une valeur manquante est identifié par NaN (Not a Number)"
   ]
  },
  {
   "cell_type": "markdown",
   "metadata": {},
   "source": [
    "Identifier les valeurs manquantes avec la fonction isnull qui retourne un booléen pour chaque ligne."
   ]
  },
  {
   "cell_type": "code",
   "execution_count": 41,
   "metadata": {
    "ExecuteTime": {
     "end_time": "2024-01-15T13:50:08.199369Z",
     "start_time": "2024-01-15T13:50:08.185072Z"
    }
   },
   "outputs": [
    {
     "ename": "KeyError",
     "evalue": "'home.dest'",
     "output_type": "error",
     "traceback": [
      "\u001B[0;31m---------------------------------------------------------------------------\u001B[0m",
      "\u001B[0;31mKeyError\u001B[0m                                  Traceback (most recent call last)",
      "Cell \u001B[0;32mIn[41], line 1\u001B[0m\n\u001B[0;32m----> 1\u001B[0m \u001B[43mdata\u001B[49m\u001B[43m[\u001B[49m\u001B[38;5;124;43m'\u001B[39;49m\u001B[38;5;124;43mhome.dest\u001B[39;49m\u001B[38;5;124;43m'\u001B[39;49m\u001B[43m]\u001B[49m\u001B[38;5;241m.\u001B[39misnull()\n",
      "\u001B[0;31mKeyError\u001B[0m: 'home.dest'"
     ]
    }
   ],
   "source": [
    "data['home.dest'].isnull()"
   ]
  },
  {
   "cell_type": "markdown",
   "metadata": {},
   "source": [
    "#### Exercice\n",
    "\n",
    "1. Compter le nombre de valeur nulles dans la colonne age\n",
    "\n",
    "2. Calculer la moyenne de la variable age"
   ]
  },
  {
   "cell_type": "code",
   "execution_count": 42,
   "metadata": {
    "ExecuteTime": {
     "end_time": "2024-01-15T13:50:37.898183Z",
     "start_time": "2024-01-15T13:50:37.883856Z"
    }
   },
   "outputs": [
    {
     "name": "stdout",
     "output_type": "stream",
     "text": [
      "Nombre de valeurs nulles dans la colonne 'Age': 1\n",
      "Moyenne de la variable 'Age': 29.5\n"
     ]
    }
   ],
   "source": [
    "import pandas as pd\n",
    "\n",
    "# Supposons que votre DataFrame s'appelle df (à adapter en fonction de votre cas)\n",
    "\n",
    "# Exemple de création d'un DataFrame fictif\n",
    "data = {'Name': ['Alice', 'Bob', 'Charlie', 'David', 'Emily'],\n",
    "        'Age': [25, 30, None, 28, 35]}\n",
    "\n",
    "df = pd.DataFrame(data)\n",
    "\n",
    "# Compter le nombre de valeurs nulles dans la colonne 'Age'\n",
    "nombre_valeurs_nulles = df['Age'].isnull().sum()\n",
    "\n",
    "# Afficher le nombre de valeurs nulles\n",
    "print(\"Nombre de valeurs nulles dans la colonne 'Age':\", nombre_valeurs_nulles)\n",
    "\n",
    "# Calculer la moyenne de la variable 'Age' (en excluant les valeurs nulles)\n",
    "moyenne_age = df['Age'].mean()\n",
    "\n",
    "# Afficher la moyenne\n",
    "print(\"Moyenne de la variable 'Age':\", moyenne_age)\n"
   ]
  },
  {
   "cell_type": "markdown",
   "metadata": {},
   "source": [
    "#### Suppression des valeurs manquantes via la fonction dropna()"
   ]
  },
  {
   "cell_type": "code",
   "execution_count": 45,
   "metadata": {
    "ExecuteTime": {
     "end_time": "2024-01-15T13:50:57.251631Z",
     "start_time": "2024-01-15T13:50:57.234580Z"
    }
   },
   "outputs": [
    {
     "ename": "AttributeError",
     "evalue": "'dict' object has no attribute 'dropna'",
     "output_type": "error",
     "traceback": [
      "\u001B[0;31m---------------------------------------------------------------------------\u001B[0m",
      "\u001B[0;31mAttributeError\u001B[0m                            Traceback (most recent call last)",
      "Cell \u001B[0;32mIn[45], line 2\u001B[0m\n\u001B[1;32m      1\u001B[0m \u001B[38;5;28;01mimport\u001B[39;00m \u001B[38;5;21;01mpandas\u001B[39;00m \u001B[38;5;28;01mas\u001B[39;00m \u001B[38;5;21;01mpd\u001B[39;00m\n\u001B[0;32m----> 2\u001B[0m new_data \u001B[38;5;241m=\u001B[39m \u001B[43mdata\u001B[49m\u001B[38;5;241;43m.\u001B[39;49m\u001B[43mdropna\u001B[49m(axis\u001B[38;5;241m=\u001B[39m\u001B[38;5;241m0\u001B[39m, subset\u001B[38;5;241m=\u001B[39m[\u001B[38;5;124m'\u001B[39m\u001B[38;5;124mname\u001B[39m\u001B[38;5;124m'\u001B[39m,\u001B[38;5;124m'\u001B[39m\u001B[38;5;124msex\u001B[39m\u001B[38;5;124m'\u001B[39m,\u001B[38;5;124m'\u001B[39m\u001B[38;5;124mage\u001B[39m\u001B[38;5;124m'\u001B[39m])\n\u001B[1;32m      3\u001B[0m new_data\n",
      "\u001B[0;31mAttributeError\u001B[0m: 'dict' object has no attribute 'dropna'"
     ]
    }
   ],
   "source": [
    "import pandas as pd\n",
    "new_data = data.dropna(axis=0, subset=['name','sex','age'])\n",
    "new_data"
   ]
  },
  {
   "cell_type": "markdown",
   "metadata": {},
   "source": [
    "#### Convertir une colonne avec la fonction astype()\n",
    "\n",
    "La fonction astype ne peut s'appliquer que sur des colonnes sans valeurs manquantes."
   ]
  },
  {
   "cell_type": "code",
   "execution_count": 46,
   "metadata": {
    "ExecuteTime": {
     "end_time": "2024-01-15T13:50:59.635096Z",
     "start_time": "2024-01-15T13:50:59.619724Z"
    }
   },
   "outputs": [
    {
     "ename": "NameError",
     "evalue": "name 'new_data' is not defined",
     "output_type": "error",
     "traceback": [
      "\u001B[0;31m---------------------------------------------------------------------------\u001B[0m",
      "\u001B[0;31mNameError\u001B[0m                                 Traceback (most recent call last)",
      "Cell \u001B[0;32mIn[46], line 1\u001B[0m\n\u001B[0;32m----> 1\u001B[0m new_data[\u001B[38;5;124m\"\u001B[39m\u001B[38;5;124mage\u001B[39m\u001B[38;5;124m\"\u001B[39m] \u001B[38;5;241m=\u001B[39m \u001B[43mnew_data\u001B[49m[\u001B[38;5;124m'\u001B[39m\u001B[38;5;124mage\u001B[39m\u001B[38;5;124m'\u001B[39m]\u001B[38;5;241m.\u001B[39mastype(\u001B[38;5;28mint\u001B[39m)\n\u001B[1;32m      2\u001B[0m new_data\u001B[38;5;241m.\u001B[39mhead()\n",
      "\u001B[0;31mNameError\u001B[0m: name 'new_data' is not defined"
     ]
    }
   ],
   "source": [
    "new_data[\"age\"] = new_data['age'].astype(int)\n",
    "new_data.head()"
   ]
  },
  {
   "cell_type": "markdown",
   "metadata": {},
   "source": [
    "#### Gestion des index"
   ]
  },
  {
   "cell_type": "markdown",
   "metadata": {},
   "source": [
    "La fonction loc se base sur l'index de la ligne pour filtrer."
   ]
  },
  {
   "cell_type": "code",
   "execution_count": null,
   "metadata": {},
   "outputs": [],
   "source": [
    "new_data.sort_values('age').loc[0:6]"
   ]
  },
  {
   "cell_type": "markdown",
   "metadata": {},
   "source": [
    "Mettre de simples crochets pour filtrer se base sur les positions de lignes dans le dataframe."
   ]
  },
  {
   "cell_type": "code",
   "execution_count": null,
   "metadata": {},
   "outputs": [],
   "source": [
    "new_data.sort_values('age')[0:6]"
   ]
  },
  {
   "cell_type": "markdown",
   "metadata": {},
   "source": [
    "Réindexage d'un dataframe avec la fonction reset_index()."
   ]
  },
  {
   "cell_type": "code",
   "execution_count": null,
   "metadata": {},
   "outputs": [],
   "source": [
    "new_data_reindex = new_data.sort_values('age')[0:6].reset_index(drop=True)\n",
    "new_data_reindex"
   ]
  },
  {
   "cell_type": "markdown",
   "metadata": {},
   "source": [
    "#### Exercice\n",
    "\n",
    "Affecter à un nouveau dataframe, les 10 personnes les plus agées puis réindéxer le nouveau dataset."
   ]
  },
  {
   "cell_type": "code",
   "execution_count": null,
   "metadata": {},
   "outputs": [],
   "source": []
  },
  {
   "cell_type": "markdown",
   "metadata": {},
   "source": [
    "### Appliquer une fonction à un dataframe"
   ]
  },
  {
   "cell_type": "markdown",
   "metadata": {},
   "source": [
    "Appliquer une fonction à toutes les colonnes."
   ]
  },
  {
   "cell_type": "code",
   "execution_count": null,
   "metadata": {},
   "outputs": [],
   "source": [
    "def null_count(col):\n",
    "    return len(col[pd.isnull(col)])\n",
    "\n",
    "data.apply(null_count)"
   ]
  },
  {
   "cell_type": "markdown",
   "metadata": {},
   "source": [
    "Appliquer une fonction à toutes les lignes d'une colonne."
   ]
  },
  {
   "cell_type": "code",
   "execution_count": null,
   "metadata": {},
   "outputs": [],
   "source": [
    "def plus_1 (x):\n",
    "    return x+1\n",
    "\n",
    "data['age'].apply(plus_1)"
   ]
  },
  {
   "cell_type": "markdown",
   "metadata": {},
   "source": [
    "#### Exercice\n",
    "\n",
    "- Créer une fonction qui retourne si une personne est mineur ou majeur en fonction de l'age.\n",
    "- Créer une nouvelle colonne dans le dataframe new_data qui indique si la personne est majeure ou mineure."
   ]
  },
  {
   "cell_type": "code",
   "execution_count": null,
   "metadata": {},
   "outputs": [],
   "source": []
  },
  {
   "cell_type": "markdown",
   "metadata": {},
   "source": [
    "### Table pivot\n",
    "\n",
    "Permet de réorganiser, agréger et résumer les données d'un dataframe."
   ]
  },
  {
   "cell_type": "code",
   "execution_count": null,
   "metadata": {},
   "outputs": [],
   "source": [
    "import numpy as np \n",
    "\n",
    "survived_by_sex = new_data.pivot_table(index='sex', values='survived', aggfunc=np.mean)\n",
    "survived_by_sex"
   ]
  },
  {
   "cell_type": "markdown",
   "metadata": {},
   "source": [
    "On peut également réindéxer une table pivot pour l'avoir dans le format dataframe."
   ]
  },
  {
   "cell_type": "code",
   "execution_count": null,
   "metadata": {},
   "outputs": [],
   "source": [
    "survived_by_sex = survived_by_sex.reset_index()\n",
    "survived_by_sex"
   ]
  },
  {
   "cell_type": "markdown",
   "metadata": {},
   "source": [
    "#### Exercice\n",
    "\n",
    "Créer un nouveau dataframe avec deux colonnes, la première pour l'ensemble des âges du dataframe et la deuxième pour le taux de survivant associé."
   ]
  },
  {
   "cell_type": "code",
   "execution_count": null,
   "metadata": {},
   "outputs": [],
   "source": []
  },
  {
   "cell_type": "markdown",
   "metadata": {},
   "source": [
    "## Graphiques avec matplotlib"
   ]
  },
  {
   "cell_type": "code",
   "execution_count": null,
   "metadata": {},
   "outputs": [],
   "source": [
    "pip install matplotlib"
   ]
  },
  {
   "cell_type": "markdown",
   "metadata": {},
   "source": [
    "Courbe"
   ]
  },
  {
   "cell_type": "code",
   "execution_count": 1,
   "metadata": {
    "ExecuteTime": {
     "end_time": "2024-01-23T10:37:07.747709Z",
     "start_time": "2024-01-23T10:37:07.304682Z"
    }
   },
   "outputs": [
    {
     "ename": "NameError",
     "evalue": "name 'survived_by_age' is not defined",
     "output_type": "error",
     "traceback": [
      "\u001B[0;31m---------------------------------------------------------------------------\u001B[0m",
      "\u001B[0;31mNameError\u001B[0m                                 Traceback (most recent call last)",
      "Cell \u001B[0;32mIn[1], line 3\u001B[0m\n\u001B[1;32m      1\u001B[0m \u001B[38;5;28;01mimport\u001B[39;00m \u001B[38;5;21;01mmatplotlib\u001B[39;00m\u001B[38;5;21;01m.\u001B[39;00m\u001B[38;5;21;01mpyplot\u001B[39;00m \u001B[38;5;28;01mas\u001B[39;00m \u001B[38;5;21;01mplt\u001B[39;00m\n\u001B[0;32m----> 3\u001B[0m plt\u001B[38;5;241m.\u001B[39mplot(\u001B[43msurvived_by_age\u001B[49m[\u001B[38;5;124m'\u001B[39m\u001B[38;5;124mage\u001B[39m\u001B[38;5;124m'\u001B[39m],survived_by_age[\u001B[38;5;124m'\u001B[39m\u001B[38;5;124msurvived\u001B[39m\u001B[38;5;124m'\u001B[39m])\n\u001B[1;32m      4\u001B[0m plt\u001B[38;5;241m.\u001B[39mxlabel(\u001B[38;5;124m\"\u001B[39m\u001B[38;5;124mAge\u001B[39m\u001B[38;5;124m\"\u001B[39m)\n\u001B[1;32m      5\u001B[0m plt\u001B[38;5;241m.\u001B[39mylabel(\u001B[38;5;124m\"\u001B[39m\u001B[38;5;124mTaux de survivant\u001B[39m\u001B[38;5;124m\"\u001B[39m)\n",
      "\u001B[0;31mNameError\u001B[0m: name 'survived_by_age' is not defined"
     ]
    }
   ],
   "source": [
    "import matplotlib.pyplot as plt\n",
    "\n",
    "plt.plot(survived_by_age['age'],survived_by_age['survived'])\n",
    "plt.xlabel(\"Age\")\n",
    "plt.ylabel(\"Taux de survivant\")\n",
    "plt.title(\"Taux de survivant en fonction de l'age\")\n",
    "plt.show()"
   ]
  },
  {
   "cell_type": "markdown",
   "metadata": {},
   "source": [
    "Diagramme en bâton"
   ]
  },
  {
   "cell_type": "code",
   "execution_count": 2,
   "metadata": {
    "ExecuteTime": {
     "end_time": "2024-01-23T10:37:09.481863Z",
     "start_time": "2024-01-23T10:37:09.458484Z"
    }
   },
   "outputs": [
    {
     "ename": "NameError",
     "evalue": "name 'new_data' is not defined",
     "output_type": "error",
     "traceback": [
      "\u001B[0;31m---------------------------------------------------------------------------\u001B[0m",
      "\u001B[0;31mNameError\u001B[0m                                 Traceback (most recent call last)",
      "Cell \u001B[0;32mIn[2], line 1\u001B[0m\n\u001B[0;32m----> 1\u001B[0m survived_by_age_labels \u001B[38;5;241m=\u001B[39m \u001B[43mnew_data\u001B[49m\u001B[38;5;241m.\u001B[39mpivot_table(index\u001B[38;5;241m=\u001B[39m\u001B[38;5;124m'\u001B[39m\u001B[38;5;124mage_labels\u001B[39m\u001B[38;5;124m'\u001B[39m, values\u001B[38;5;241m=\u001B[39m\u001B[38;5;124m'\u001B[39m\u001B[38;5;124msurvived\u001B[39m\u001B[38;5;124m'\u001B[39m, aggfunc\u001B[38;5;241m=\u001B[39mnp\u001B[38;5;241m.\u001B[39mmean)\u001B[38;5;241m.\u001B[39mreset_index()\n\u001B[1;32m      3\u001B[0m plt\u001B[38;5;241m.\u001B[39mbar(survived_by_age_labels[\u001B[38;5;124m'\u001B[39m\u001B[38;5;124mage_labels\u001B[39m\u001B[38;5;124m'\u001B[39m],survived_by_age_labels[\u001B[38;5;124m'\u001B[39m\u001B[38;5;124msurvived\u001B[39m\u001B[38;5;124m'\u001B[39m],color \u001B[38;5;241m=\u001B[39m [\u001B[38;5;124m'\u001B[39m\u001B[38;5;124m#fdaa48\u001B[39m\u001B[38;5;124m'\u001B[39m,\u001B[38;5;124m'\u001B[39m\u001B[38;5;124m#6890F0\u001B[39m\u001B[38;5;124m'\u001B[39m])\n\u001B[1;32m      4\u001B[0m plt\u001B[38;5;241m.\u001B[39mtitle(\u001B[38;5;124m\"\u001B[39m\u001B[38;5;124mTaux de survivant par catégories\u001B[39m\u001B[38;5;124m\"\u001B[39m)\n",
      "\u001B[0;31mNameError\u001B[0m: name 'new_data' is not defined"
     ]
    }
   ],
   "source": [
    "survived_by_age_labels = new_data.pivot_table(index='age_labels', values='survived', aggfunc=np.mean).reset_index()\n",
    "\n",
    "plt.bar(survived_by_age_labels['age_labels'],survived_by_age_labels['survived'],color = ['#fdaa48','#6890F0'])\n",
    "plt.title(\"Taux de survivant par catégories\")\n",
    "plt.show()"
   ]
  },
  {
   "cell_type": "markdown",
   "metadata": {},
   "source": [
    "Boîte à moustache"
   ]
  },
  {
   "cell_type": "code",
   "execution_count": 3,
   "metadata": {
    "ExecuteTime": {
     "end_time": "2024-01-23T10:37:12.687153Z",
     "start_time": "2024-01-23T10:37:12.671124Z"
    }
   },
   "outputs": [
    {
     "ename": "NameError",
     "evalue": "name 'new_data' is not defined",
     "output_type": "error",
     "traceback": [
      "\u001B[0;31m---------------------------------------------------------------------------\u001B[0m",
      "\u001B[0;31mNameError\u001B[0m                                 Traceback (most recent call last)",
      "Cell \u001B[0;32mIn[3], line 1\u001B[0m\n\u001B[0;32m----> 1\u001B[0m plt\u001B[38;5;241m.\u001B[39mboxplot(\u001B[43mnew_data\u001B[49m[\u001B[38;5;124m'\u001B[39m\u001B[38;5;124mage\u001B[39m\u001B[38;5;124m'\u001B[39m])\n\u001B[1;32m      2\u001B[0m plt\u001B[38;5;241m.\u001B[39mshow()\n",
      "\u001B[0;31mNameError\u001B[0m: name 'new_data' is not defined"
     ]
    }
   ],
   "source": [
    "plt.boxplot(new_data['age'])\n",
    "plt.show()"
   ]
  },
  {
   "cell_type": "code",
   "outputs": [],
   "source": [],
   "metadata": {
    "collapsed": false
   }
  }
 ],
 "metadata": {
  "kernelspec": {
   "display_name": "Python 3",
   "language": "python",
   "name": "python3"
  },
  "language_info": {
   "codemirror_mode": {
    "name": "ipython",
    "version": 3
   },
   "file_extension": ".py",
   "mimetype": "text/x-python",
   "name": "python",
   "nbconvert_exporter": "python",
   "pygments_lexer": "ipython3",
   "version": "3.12.1"
  }
 },
 "nbformat": 4,
 "nbformat_minor": 2
}
